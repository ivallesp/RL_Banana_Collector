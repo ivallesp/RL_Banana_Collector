{
 "cells": [
  {
   "cell_type": "markdown",
   "metadata": {},
   "source": [
    "# Navigation - Project 1 of the Deep Reinforcement Learning Nanodegree"
   ]
  },
  {
   "cell_type": "markdown",
   "metadata": {},
   "source": [
    "<div style=\"text-align: right\">**Iván Vallés Pérez - October 2018**</div>\n",
    "____________________"
   ]
  },
  {
   "cell_type": "markdown",
   "metadata": {},
   "source": [
    "This notebook summarizes the solution implemented for the **1st project of the [Deep Reinforcement Learning Nanodegree](https://www.udacity.com/course/deep-reinforcement-learning-nanodegree--nd893) (Navigation)**"
   ]
  },
  {
   "cell_type": "markdown",
   "metadata": {},
   "source": [
    "## Problem introduction"
   ]
  },
  {
   "cell_type": "markdown",
   "metadata": {},
   "source": [
    "The goal consists of the use of a deep q network in order to teach an agent collecting yellow bananas and avoiding blue ones in a large-square world. This environment is provided in the course (links below) and uses Unity ML-Agent to run ot.\n",
    "\n",
    "\n",
    "### Environment\n",
    "There are 4 different versions of the same environment\n",
    "- **Normal version**\n",
    "- **Headless version**\n",
    "- **Pixels normal version**\n",
    "- **Pixels headless version**\n",
    "\n",
    "- Windows x86 Environments:[normal version](https://s3-us-west-1.amazonaws.com/udacity-drlnd/P1/Banana/Banana_Windows_x86.zip), [headless version](https://s3-us-west-1.amazonaws.com/udacity-drlnd/P1/Banana/Banana_Windows_x86_NoVis.zip), [pixels normal version](https://s3-us-west-1.amazonaws.com/udacity-drlnd/P1/Banana/VisualBanana_Windows_x86.zip), [pixels headless version](https://s3-us-west-1.amazonaws.com/udacity-drlnd/P1/Banana/VisualBanana_Windows_x86_NoVis.zip)\n",
    "- Windows x64 Environments:[normal version](https://s3-us-west-1.amazonaws.com/udacity-drlnd/P1/Banana/Banana_Windows_x86_64.zip), [headless version](https://s3-us-west-1.amazonaws.com/udacity-drlnd/P1/Banana/Banana_Windows_x86_64_NoVis.zip), [pixels normal version](https://s3-us-west-1.amazonaws.com/udacity-drlnd/P1/Banana/VisualBanana_Windows_x86_64.zip), [pixels headless version](https://s3-us-west-1.amazonaws.com/udacity-drlnd/P1/Banana/VisualBanana_Windows_x86_64_NoVis.zip)\n",
    "- Linux Environments: [normal version](https://s3-us-west-1.amazonaws.com/udacity-drlnd/P1/Banana/Banana_Linux.zip), [headless version](https://s3-us-west-1.amazonaws.com/udacity-drlnd/P1/Banana/Banana_Linux_NoVis.zip), [pixels normal version](https://s3-us-west-1.amazonaws.com/udacity-drlnd/P1/Banana/VisualBanana_Linux.zip), [pixels headless version](https://s3-us-west-1.amazonaws.com/udacity-drlnd/P1/Banana/VisualBanana_Linux_NoVis.zip)\n",
    "- Mac Environments: [normal version](https://s3-us-west-1.amazonaws.com/udacity-drlnd/P1/Banana/Banana.app.zip), [pixels normal version](https://s3-us-west-1.amazonaws.com/udacity-drlnd/P1/Banana/VisualBanana.app.zip)\n",
    "\n",
    "\n",
    "Normal stands for an environment which shows, graphically, the environment while it is being trained while headless don't do it. The last one is specially useful for those servers which do not have compatibility with OpenGL. The pixels versions are intended for providing the user with a snapshot of the environment as the observation from which the agent has to learn, while the not pixels versions provide the agent with a set of features summarizing the MDP.\n",
    "\n",
    "> A reward of +1 is provided for collecting a yellow banana, and a reward of -1 is provided for collecting a blue banana. Thus, the goal of your agent is to collect as many yellow bananas as possible while avoiding blue bananas.\n",
    "> \n",
    "> The state space has 37 dimensions and contains the agent's velocity, along with ray-based perception of objects around the agent's forward direction. Given this information, the agent has to learn how to best select actions. Four discrete actions are available, corresponding to:\n",
    ">\n",
    "> - 0 - move forward.\n",
    "> - 1 - move backward.\n",
    "> - 2 - turn left.\n",
    "> - 3 - turn right.\n",
    ">\n",
    "> The task is episodic, and in order to solve the environment, your agent must get an average score of +13 over 100 consecutive episodes."
   ]
  },
  {
   "cell_type": "markdown",
   "metadata": {},
   "source": [
    "In this case we are going to solve the non-pixels environment. In this case,\n",
    ">The state space has `37` dimensions and contains the agent's velocity, along with ray-based perception of objects around agent's forward direction.  A reward of `+1` is provided for collecting a yellow banana, and a reward of `-1` is provided for collecting a blue banana. \n"
   ]
  },
  {
   "cell_type": "markdown",
   "metadata": {},
   "source": [
    "### Learning algorithm"
   ]
  },
  {
   "cell_type": "markdown",
   "metadata": {},
   "source": [
    "The algorithm used to train the agent has been the [Deep Q-Network](https://storage.googleapis.com/deepmind-media/dqn/DQNNaturePaper.pdf) algorithm, published by [Google DeepMind](https://deepmind.com/) in 2015 in [Nature](https://www.nature.com/). It basically consists of a modification of the tabular Q-Learning for working with non-linear approximators such as Deep Neural Networks. The complete procedure is summarized below."
   ]
  },
  {
   "cell_type": "markdown",
   "metadata": {},
   "source": [
    "![DQNAlgorithm](./img/DeepQAlgorithm.png)"
   ]
  },
  {
   "cell_type": "markdown",
   "metadata": {},
   "source": [
    "Where the goal is to minimize the $td\\_error$ (i.e. the cost function)"
   ]
  },
  {
   "cell_type": "markdown",
   "metadata": {},
   "source": [
    "$$td\\_error = \\left(max_{a'}[\\hat{Q}(s', a')]- Q(s, a) \\right)^2$$"
   ]
  },
  {
   "cell_type": "markdown",
   "metadata": {},
   "source": [
    "In order to achieve convergence, two tricks have to be implemented.\n",
    "- **Target networks**: the network for calculating the target value ($max_{a'}[\\hat{Q}(s', a')]$) has to be a frozen copy of the network which is being trained. In our case, instead of updating the network from time to time, we update the parameters of the target network using an exponential decay in each step: $w_{target} \\gets (1-\\tau) \\cdot w_{target} + \\tau \\cdot w$, where $\\tau$ is a small positive number.\n",
    "- **Experience replay**: in order to get rid of undesirable [catastrophic forgetting](https://en.wikipedia.org/wiki/Catastrophic_interference) effects, the data provided to the neural network must be decorrelated. For that, accumulating past experiences in a buffer of samples of size $E$ is proposed. The network will be trained in each step over a sample drawn from this buffer."
   ]
  },
  {
   "cell_type": "markdown",
   "metadata": {},
   "source": [
    "The following parameters have been chosen for training the agent\n",
    "- $\\epsilon_0 = 1.0$\n",
    "- $\\epsilon$ exponential-decay over training steps with a decay rate of $0.99995$\n",
    "- $\\epsilon_{min} = 0.01$\n",
    "- Num. of exploration steps = 10000\n",
    "- $\\tau = 10^{-3}$\n",
    "- $\\lambda = 10^{-3}$ (learning rate)\n",
    "- E = 10^5"
   ]
  },
  {
   "cell_type": "markdown",
   "metadata": {},
   "source": [
    "The neural network architecture that has been used to train the agent is a MultiLayer Perceptron with two hidden layers of 128 and 32 neurons and ReLU activations. [Adam](https://arxiv.org/abs/1412.6980) has been used as optimization algorithm for the network's synaptic weights update."
   ]
  },
  {
   "cell_type": "markdown",
   "metadata": {},
   "source": [
    "## Running the solution"
   ]
  },
  {
   "cell_type": "markdown",
   "metadata": {},
   "source": [
    "Next, we have to define the variable for the environment executable, please define it below\n",
    "- **Mac**: `\"path/to/Banana.app\"`\n",
    "- **Windows** (x86): `\"path/to/Banana_Windows_x86/Banana.exe\"`\n",
    "- **Windows** (x86_64): `\"path/to/Banana_Windows_x86_64/Banana.exe\"`\n",
    "- **Linux** (x86): `\"path/to/Banana_Linux/Banana.x86\"`\n",
    "- **Linux** (x86_64): `\"path/to/Banana_Linux/Banana.x86_64\"`\n",
    "- **Linux** (x86, headless): `\"path/to/Banana_Linux_NoVis/Banana.x86\"`\n",
    "- **Linux** (x86_64, headless): `\"path/to/Banana_Linux_NoVis/Banana.x86_64\"`"
   ]
  },
  {
   "cell_type": "code",
   "execution_count": 1,
   "metadata": {},
   "outputs": [],
   "source": [
    "env_path = \"./Banana_Windows_x86_64/Banana.exe\""
   ]
  },
  {
   "cell_type": "markdown",
   "metadata": {},
   "source": [
    "Import the libraries"
   ]
  },
  {
   "cell_type": "code",
   "execution_count": 2,
   "metadata": {},
   "outputs": [],
   "source": [
    "from unityagents import UnityEnvironment\n",
    "import numpy as np\n",
    "import random\n",
    "import matplotlib.pyplot as plt\n",
    "from collections import deque\n",
    "from IPython.display import clear_output\n",
    "import pandas as pd\n",
    "import torch\n",
    "import torch.nn as nn\n",
    "import torch.nn.functional as F\n",
    "import torch.optim as optim\n",
    "ewma = lambda x: pd.Series(x).ewm(span=100).mean()\n",
    "\n",
    "from agent import QAgent # Module containing the code of the agent\n",
    "from models import MLPArchitecture # Module containing the neural network architecture\n",
    "\n",
    "%matplotlib inline"
   ]
  },
  {
   "cell_type": "markdown",
   "metadata": {},
   "source": [
    "### Train the agent"
   ]
  },
  {
   "cell_type": "markdown",
   "metadata": {},
   "source": [
    "#### Instantiate the unity environment"
   ]
  },
  {
   "cell_type": "code",
   "execution_count": 2,
   "metadata": {},
   "outputs": [
    {
     "name": "stderr",
     "output_type": "stream",
     "text": [
      "INFO:unityagents:\n",
      "'Academy' started successfully!\n",
      "Unity Academy name: Academy\n",
      "        Number of Brains: 1\n",
      "        Number of External Brains : 1\n",
      "        Lesson number : 0\n",
      "        Reset Parameters :\n",
      "\t\t\n",
      "Unity brain name: BananaBrain\n",
      "        Number of Visual Observations (per agent): 0\n",
      "        Vector Observation space type: continuous\n",
      "        Vector Observation space size (per agent): 37\n",
      "        Number of stacked Vector Observation: 1\n",
      "        Vector Action space type: discrete\n",
      "        Vector Action space size (per agent): 4\n",
      "        Vector Action descriptions: , , , \n"
     ]
    }
   ],
   "source": [
    "env = UnityEnvironment(file_name=env_path)\n",
    "brain_name = env.brain_names[0]\n",
    "brain = env.brains[brain_name]\n",
    "state_size = brain.vector_observation_space_size\n",
    "n_actions = brain.vector_action_space_size"
   ]
  },
  {
   "cell_type": "markdown",
   "metadata": {},
   "source": [
    "#### Agent and parameters definition"
   ]
  },
  {
   "cell_type": "code",
   "execution_count": null,
   "metadata": {},
   "outputs": [],
   "source": [
    "n_episodes = 1500\n",
    "eps_decay=0.99995\n",
    "eps_final=0.01\n",
    "exploration_steps = 10000\n",
    "tau = 1e-3\n",
    "learning_rate = 1e-3\n",
    "exp_replay_size = int(1e5)\n",
    "update_every = 4\n",
    "agent = QAgent(n_actions=n_actions, state_size=(state_size,), architecture=MLPArchitecture,\n",
    "               epsilon_exp_decay=eps_decay, epsilon_final=eps_final, batch_size=64,\n",
    "               initial_exploration_steps=exploration_steps, tau = tau,\n",
    "               update_every=update_every,exp_replay_size=exp_replay_size)\n",
    "scores = []\n",
    "eps = []"
   ]
  },
  {
   "cell_type": "markdown",
   "metadata": {},
   "source": [
    "#### Episodes loop"
   ]
  },
  {
   "cell_type": "markdown",
   "metadata": {},
   "source": [
    "Runs episodes until the agent achieves an average score of 15 over 100 consecutive steps. We increased the project objective from 13 to 15 because we realized that it is possible to improve the result."
   ]
  },
  {
   "cell_type": "code",
   "execution_count": 3,
   "metadata": {
    "scrolled": true
   },
   "outputs": [
    {
     "data": {
      "image/png": "[encoded data removed]",
      "text/plain": [
       "<Figure size 864x360 with 2 Axes>"
      ]
     },
     "metadata": {},
     "output_type": "display_data"
    }
   ],
   "source": [
    "for i in range(n_episodes):\n",
    "    env_info = env.reset(train_mode=True)[brain_name]\n",
    "    state = env_info.vector_observations[0]  \n",
    "    done=False\n",
    "    episodic_score=0\n",
    "    while not done:\n",
    "        action = agent.choose_action(state)\n",
    "\n",
    "        env_info = env.step(int(action))[brain_name]\n",
    "        reward = env_info.rewards[0]\n",
    "        next_state = env_info.vector_observations[0]\n",
    "        done = env_info.local_done[0] \n",
    "\n",
    "        agent.step(state=state, action=action, reward=reward, next_state=next_state)\n",
    "        state = next_state\n",
    "        episodic_score += reward\n",
    "    eps.append(agent.epsilon)\n",
    "    scores.append(episodic_score)\n",
    "    if i % 100 == 0:\n",
    "        torch.save(agent.neural_net.net.state_dict(), 'checkpoint.pth')\n",
    "            \n",
    "    clear_output(True)\n",
    "    plt.figure(figsize=(12, 5))\n",
    "    plt.subplot(121)\n",
    "    plt.plot(ewma(scores))\n",
    "    plt.grid()\n",
    "    plt.xlabel(\"Episodes\")\n",
    "    plt.ylabel(\"Cumulative reward\")\n",
    "    plt.title(\"Agent performance evolution\")\n",
    "    plt.subplot(122)\n",
    "    plt.plot(eps)\n",
    "    plt.grid()\n",
    "    plt.xlabel(\"Episodes\")\n",
    "    plt.ylabel(\"Epsilon\")\n",
    "    plt.title(\"Epsilon evolution over episodes\")\n",
    "    plt.show()\n",
    "    if np.mean(scores[-100:]) >= 15: # We will consider the environment solved when it overcomes a score of 15.\n",
    "        break # Env solved\n"
   ]
  },
  {
   "cell_type": "markdown",
   "metadata": {},
   "source": [
    "### Evaluate the result "
   ]
  },
  {
   "cell_type": "markdown",
   "metadata": {},
   "source": [
    "Sometimes it is needed to restart the jupyter notebook before running the code below. If the it freezes, just restart it and start running from here (i.e. jump over the train step)."
   ]
  },
  {
   "cell_type": "markdown",
   "metadata": {},
   "source": [
    "#### Instantiate the environment "
   ]
  },
  {
   "cell_type": "code",
   "execution_count": 3,
   "metadata": {},
   "outputs": [
    {
     "name": "stderr",
     "output_type": "stream",
     "text": [
      "INFO:unityagents:\n",
      "'Academy' started successfully!\n",
      "Unity Academy name: Academy\n",
      "        Number of Brains: 1\n",
      "        Number of External Brains : 1\n",
      "        Lesson number : 0\n",
      "        Reset Parameters :\n",
      "\t\t\n",
      "Unity brain name: BananaBrain\n",
      "        Number of Visual Observations (per agent): 0\n",
      "        Vector Observation space type: continuous\n",
      "        Vector Observation space size (per agent): 37\n",
      "        Number of stacked Vector Observation: 1\n",
      "        Vector Action space type: discrete\n",
      "        Vector Action space size (per agent): 4\n",
      "        Vector Action descriptions: , , , \n"
     ]
    }
   ],
   "source": [
    "env = UnityEnvironment(file_name=env_path)\n",
    "brain_name = env.brain_names[0]\n",
    "brain = env.brains[brain_name]\n",
    "state_size = brain.vector_observation_space_size\n",
    "n_actions = brain.vector_action_space_size"
   ]
  },
  {
   "cell_type": "markdown",
   "metadata": {},
   "source": [
    "#### Instantiate the agent and load the pretrained weights"
   ]
  },
  {
   "cell_type": "code",
   "execution_count": 6,
   "metadata": {},
   "outputs": [],
   "source": [
    "n_episodes = 1500\n",
    "eps_decay=0.99995\n",
    "eps_final=0.01\n",
    "exploration_steps = 10000\n",
    "tau = 1e-3\n",
    "learning_rate = 1e-3\n",
    "exp_replay_size = int(1e5)\n",
    "update_every = 4\n",
    "agent = QAgent(n_actions=n_actions, state_size=(state_size,), architecture=MLPArchitecture, \n",
    "               epsilon_exp_decay=eps_decay, epsilon_final=eps_final, batch_size=64,\n",
    "               initial_exploration_steps=exploration_steps, tau = tau, update_every=update_every,\n",
    "               exp_replay_size=exp_replay_size)\n",
    "agent.neural_net.net.load_state_dict(torch.load(\"checkpoint.pth\")) # Load the trained agent"
   ]
  },
  {
   "cell_type": "markdown",
   "metadata": {},
   "source": [
    "#### Run an episode to watch the pretrained agent navigate the environment"
   ]
  },
  {
   "cell_type": "code",
   "execution_count": 9,
   "metadata": {},
   "outputs": [],
   "source": [
    "env_info = env.reset(train_mode=False)[brain_name]\n",
    "done=False\n",
    "state = env_info.vector_observations[0]  \n",
    "while not done:\n",
    "        action = agent.choose_action(state, greedy=True)\n",
    "\n",
    "        env_info = env.step(int(action))[brain_name]\n",
    "        reward = env_info.rewards[0]\n",
    "        next_state = env_info.vector_observations[0]\n",
    "        done = env_info.local_done[0] \n",
    "        #agent.step(state=state, action=action, reward=reward, next_state=next_state)\n",
    "        state = next_state\n",
    "        #episodic_score += reward"
   ]
  },
  {
   "cell_type": "markdown",
   "metadata": {},
   "source": [
    "## Result"
   ]
  },
  {
   "cell_type": "markdown",
   "metadata": {},
   "source": [
    "A high performing agent has been achieved. Check it out in the following gif!"
   ]
  },
  {
   "cell_type": "markdown",
   "metadata": {},
   "source": [
    "![Result](img/banana_normal.gif)"
   ]
  },
  {
   "cell_type": "markdown",
   "metadata": {},
   "source": [
    "## Next steps"
   ]
  },
  {
   "cell_type": "markdown",
   "metadata": {},
   "source": [
    "A set of potential next steps is summarized below\n",
    "- Implement Dueling Q-Learning\n",
    "- Implement Double Q-Learning\n",
    "- Tune better the parameters to achieve better performance\n",
    "- Implement prioritized experience replay"
   ]
  }
 ],
 "metadata": {
  "kernelspec": {
   "display_name": "Python 3",
   "language": "python",
   "name": "python3"
  },
  "language_info": {
   "codemirror_mode": {
    "name": "ipython",
    "version": 3
   },
   "file_extension": ".py",
   "mimetype": "text/x-python",
   "name": "python",
   "nbconvert_exporter": "python",
   "pygments_lexer": "ipython3",
   "version": "3.6.5"
  }
 },
 "nbformat": 4,
 "nbformat_minor": 2
}
